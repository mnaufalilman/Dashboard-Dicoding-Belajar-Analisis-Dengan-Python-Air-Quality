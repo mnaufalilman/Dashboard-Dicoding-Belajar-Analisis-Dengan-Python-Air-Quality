{
 "cells": [
  {
   "cell_type": "markdown",
   "metadata": {
    "id": "H9wADwK78DCz"
   },
   "source": [
    "# Proyek Analisis Data: Air Quality Dataset\n",
    "- **Nama:** Muhammad Naufal Ilman\n",
    "- **Email:** mnaufalilman@gmail.com\n",
    "- **ID Dicoding:** nopal_ilman"
   ]
  },
  {
   "cell_type": "markdown",
   "metadata": {
    "id": "eE0raob58DC0"
   },
   "source": [
    "## Menentukan Pertanyaan Bisnis"
   ]
  },
  {
   "cell_type": "markdown",
   "metadata": {
    "id": "GmQeQ5YF8DC0"
   },
   "source": [
    "- Bagaimana hubungan antara kondisi cuaca (temperatur, tekanan udara, kelembaban) dengan tingkat polusi udara?\n",
    "- Apakah ada perbedaan kualitas udara di berbagai stasiun pemantauan?"
   ]
  },
  {
   "cell_type": "markdown",
   "metadata": {
    "id": "H-z4QGlO8DC1"
   },
   "source": [
    "## Import Semua Packages/Library yang Digunakan"
   ]
  },
  {
   "cell_type": "code",
   "execution_count": 1,
   "metadata": {
    "id": "FVYwaObI8DC1"
   },
   "outputs": [],
   "source": [
    "import os\n",
    "import pandas as pd\n",
    "import numpy as np\n",
    "import matplotlib.pyplot as plt\n",
    "import seaborn as sns"
   ]
  },
  {
   "cell_type": "markdown",
   "metadata": {
    "id": "h_Sh51Xy8DC1"
   },
   "source": [
    "## Data Wrangling"
   ]
  },
  {
   "cell_type": "markdown",
   "metadata": {
    "id": "sXU2GBYu8DC1"
   },
   "source": [
    "### Gathering Data"
   ]
  },
  {
   "cell_type": "code",
   "execution_count": 2,
   "metadata": {
    "colab": {
     "base_uri": "https://localhost:8080/",
     "height": 664
    },
    "id": "zjCBk1BI8DC1",
    "outputId": "4009acfd-d259-4d3a-e84d-d2b14ef1b998"
   },
   "outputs": [
    {
     "data": {
      "text/html": [
       "<div>\n",
       "<style scoped>\n",
       "    .dataframe tbody tr th:only-of-type {\n",
       "        vertical-align: middle;\n",
       "    }\n",
       "\n",
       "    .dataframe tbody tr th {\n",
       "        vertical-align: top;\n",
       "    }\n",
       "\n",
       "    .dataframe thead th {\n",
       "        text-align: right;\n",
       "    }\n",
       "</style>\n",
       "<table border=\"1\" class=\"dataframe\">\n",
       "  <thead>\n",
       "    <tr style=\"text-align: right;\">\n",
       "      <th></th>\n",
       "      <th>No</th>\n",
       "      <th>year</th>\n",
       "      <th>month</th>\n",
       "      <th>day</th>\n",
       "      <th>hour</th>\n",
       "      <th>PM2.5</th>\n",
       "      <th>PM10</th>\n",
       "      <th>SO2</th>\n",
       "      <th>NO2</th>\n",
       "      <th>CO</th>\n",
       "      <th>O3</th>\n",
       "      <th>TEMP</th>\n",
       "      <th>PRES</th>\n",
       "      <th>DEWP</th>\n",
       "      <th>RAIN</th>\n",
       "      <th>wd</th>\n",
       "      <th>WSPM</th>\n",
       "      <th>station</th>\n",
       "    </tr>\n",
       "  </thead>\n",
       "  <tbody>\n",
       "    <tr>\n",
       "      <th>0</th>\n",
       "      <td>1</td>\n",
       "      <td>2013</td>\n",
       "      <td>3</td>\n",
       "      <td>1</td>\n",
       "      <td>0</td>\n",
       "      <td>4.0</td>\n",
       "      <td>4.0</td>\n",
       "      <td>4.0</td>\n",
       "      <td>7.0</td>\n",
       "      <td>300.0</td>\n",
       "      <td>77.0</td>\n",
       "      <td>-0.7</td>\n",
       "      <td>1023.0</td>\n",
       "      <td>-18.8</td>\n",
       "      <td>0.0</td>\n",
       "      <td>NNW</td>\n",
       "      <td>4.4</td>\n",
       "      <td>Aotizhongxin</td>\n",
       "    </tr>\n",
       "    <tr>\n",
       "      <th>1</th>\n",
       "      <td>2</td>\n",
       "      <td>2013</td>\n",
       "      <td>3</td>\n",
       "      <td>1</td>\n",
       "      <td>1</td>\n",
       "      <td>8.0</td>\n",
       "      <td>8.0</td>\n",
       "      <td>4.0</td>\n",
       "      <td>7.0</td>\n",
       "      <td>300.0</td>\n",
       "      <td>77.0</td>\n",
       "      <td>-1.1</td>\n",
       "      <td>1023.2</td>\n",
       "      <td>-18.2</td>\n",
       "      <td>0.0</td>\n",
       "      <td>N</td>\n",
       "      <td>4.7</td>\n",
       "      <td>Aotizhongxin</td>\n",
       "    </tr>\n",
       "    <tr>\n",
       "      <th>2</th>\n",
       "      <td>3</td>\n",
       "      <td>2013</td>\n",
       "      <td>3</td>\n",
       "      <td>1</td>\n",
       "      <td>2</td>\n",
       "      <td>7.0</td>\n",
       "      <td>7.0</td>\n",
       "      <td>5.0</td>\n",
       "      <td>10.0</td>\n",
       "      <td>300.0</td>\n",
       "      <td>73.0</td>\n",
       "      <td>-1.1</td>\n",
       "      <td>1023.5</td>\n",
       "      <td>-18.2</td>\n",
       "      <td>0.0</td>\n",
       "      <td>NNW</td>\n",
       "      <td>5.6</td>\n",
       "      <td>Aotizhongxin</td>\n",
       "    </tr>\n",
       "    <tr>\n",
       "      <th>3</th>\n",
       "      <td>4</td>\n",
       "      <td>2013</td>\n",
       "      <td>3</td>\n",
       "      <td>1</td>\n",
       "      <td>3</td>\n",
       "      <td>6.0</td>\n",
       "      <td>6.0</td>\n",
       "      <td>11.0</td>\n",
       "      <td>11.0</td>\n",
       "      <td>300.0</td>\n",
       "      <td>72.0</td>\n",
       "      <td>-1.4</td>\n",
       "      <td>1024.5</td>\n",
       "      <td>-19.4</td>\n",
       "      <td>0.0</td>\n",
       "      <td>NW</td>\n",
       "      <td>3.1</td>\n",
       "      <td>Aotizhongxin</td>\n",
       "    </tr>\n",
       "    <tr>\n",
       "      <th>4</th>\n",
       "      <td>5</td>\n",
       "      <td>2013</td>\n",
       "      <td>3</td>\n",
       "      <td>1</td>\n",
       "      <td>4</td>\n",
       "      <td>3.0</td>\n",
       "      <td>3.0</td>\n",
       "      <td>12.0</td>\n",
       "      <td>12.0</td>\n",
       "      <td>300.0</td>\n",
       "      <td>72.0</td>\n",
       "      <td>-2.0</td>\n",
       "      <td>1025.2</td>\n",
       "      <td>-19.5</td>\n",
       "      <td>0.0</td>\n",
       "      <td>N</td>\n",
       "      <td>2.0</td>\n",
       "      <td>Aotizhongxin</td>\n",
       "    </tr>\n",
       "  </tbody>\n",
       "</table>\n",
       "</div>"
      ],
      "text/plain": [
       "   No  year  month  day  hour  PM2.5  PM10   SO2   NO2     CO    O3  TEMP   \n",
       "0   1  2013      3    1     0    4.0   4.0   4.0   7.0  300.0  77.0  -0.7  \\\n",
       "1   2  2013      3    1     1    8.0   8.0   4.0   7.0  300.0  77.0  -1.1   \n",
       "2   3  2013      3    1     2    7.0   7.0   5.0  10.0  300.0  73.0  -1.1   \n",
       "3   4  2013      3    1     3    6.0   6.0  11.0  11.0  300.0  72.0  -1.4   \n",
       "4   5  2013      3    1     4    3.0   3.0  12.0  12.0  300.0  72.0  -2.0   \n",
       "\n",
       "     PRES  DEWP  RAIN   wd  WSPM       station  \n",
       "0  1023.0 -18.8   0.0  NNW   4.4  Aotizhongxin  \n",
       "1  1023.2 -18.2   0.0    N   4.7  Aotizhongxin  \n",
       "2  1023.5 -18.2   0.0  NNW   5.6  Aotizhongxin  \n",
       "3  1024.5 -19.4   0.0   NW   3.1  Aotizhongxin  \n",
       "4  1025.2 -19.5   0.0    N   2.0  Aotizhongxin  "
      ]
     },
     "execution_count": 2,
     "metadata": {},
     "output_type": "execute_result"
    }
   ],
   "source": [
    "    folder_path = \"Data\"  # Ganti dengan path folder CSV kamu\n",
    "\n",
    "# Ambil semua file CSV dalam folder\n",
    "all_files = [f for f in os.listdir(folder_path) if f.endswith('.csv')]\n",
    "\n",
    "# Gabungkan semua file CSV menjadi satu DataFrame\n",
    "df_list = [pd.read_csv(os.path.join(folder_path, file)) for file in all_files]\n",
    "df_AirQuality = pd.concat(df_list, ignore_index=True)\n",
    "\n",
    "df_AirQuality.to_csv(\"Air_Quality_Total.csv\", index=False)\n",
    "df_AirQuality.head()"
   ]
  },
  {
   "cell_type": "markdown",
   "metadata": {
    "id": "FHSiqaZp8DC1"
   },
   "source": [
    "### Assessing Data"
   ]
  },
  {
   "cell_type": "markdown",
   "metadata": {
    "id": "FfTTGKwjbaXs"
   },
   "source": [
    "**1. Melakukan pengecekan tipe data apakah tipe data sudah benar atau tidak**"
   ]
  },
  {
   "cell_type": "code",
   "execution_count": 3,
   "metadata": {
    "colab": {
     "base_uri": "https://localhost:8080/"
    },
    "id": "ax-3tEjc9Cj1",
    "outputId": "0342e691-01f8-42a5-ae4c-64b602046fef"
   },
   "outputs": [
    {
     "name": "stdout",
     "output_type": "stream",
     "text": [
      "<class 'pandas.core.frame.DataFrame'>\n",
      "RangeIndex: 420768 entries, 0 to 420767\n",
      "Data columns (total 18 columns):\n",
      " #   Column   Non-Null Count   Dtype  \n",
      "---  ------   --------------   -----  \n",
      " 0   No       420768 non-null  int64  \n",
      " 1   year     420768 non-null  int64  \n",
      " 2   month    420768 non-null  int64  \n",
      " 3   day      420768 non-null  int64  \n",
      " 4   hour     420768 non-null  int64  \n",
      " 5   PM2.5    412029 non-null  float64\n",
      " 6   PM10     414319 non-null  float64\n",
      " 7   SO2      411747 non-null  float64\n",
      " 8   NO2      408652 non-null  float64\n",
      " 9   CO       400067 non-null  float64\n",
      " 10  O3       407491 non-null  float64\n",
      " 11  TEMP     420370 non-null  float64\n",
      " 12  PRES     420375 non-null  float64\n",
      " 13  DEWP     420365 non-null  float64\n",
      " 14  RAIN     420378 non-null  float64\n",
      " 15  wd       418946 non-null  object \n",
      " 16  WSPM     420450 non-null  float64\n",
      " 17  station  420768 non-null  object \n",
      "dtypes: float64(11), int64(5), object(2)\n",
      "memory usage: 57.8+ MB\n"
     ]
    }
   ],
   "source": [
    "#cek tipe data\n",
    "df_AirQuality.info()"
   ]
  },
  {
   "cell_type": "markdown",
   "metadata": {
    "id": "lVKuNfvTrSgD"
   },
   "source": [
    "**Insight:**\n",
    "- terlihat bahwa tipe variabel month dan wd tidak sesuai dengan yang saya inginkan yaitu category"
   ]
  },
  {
   "cell_type": "markdown",
   "metadata": {
    "id": "DkikZxljbe6B"
   },
   "source": [
    "**2. Cek Duplikasi data**"
   ]
  },
  {
   "cell_type": "code",
   "execution_count": 4,
   "metadata": {
    "colab": {
     "base_uri": "https://localhost:8080/"
    },
    "id": "akdhEI0Hbtkm",
    "outputId": "b410977e-37dd-43f8-c2d0-0cf56535343c"
   },
   "outputs": [
    {
     "name": "stdout",
     "output_type": "stream",
     "text": [
      "Jumlah duplikasi:  0\n"
     ]
    }
   ],
   "source": [
    "print(\"Jumlah duplikasi: \", df_AirQuality.duplicated().sum())"
   ]
  },
  {
   "cell_type": "markdown",
   "metadata": {
    "id": "7dtxhAPrkhPL"
   },
   "source": [
    "**Insight:**\n",
    "- tidak terdapat duplikasi pada data\n"
   ]
  },
  {
   "cell_type": "markdown",
   "metadata": {
    "id": "EhN5R4hr8DC1"
   },
   "source": [
    "### Cleaning Data"
   ]
  },
  {
   "cell_type": "code",
   "execution_count": 5,
   "metadata": {
    "colab": {
     "base_uri": "https://localhost:8080/"
    },
    "id": "jVnYpprE9Evz",
    "outputId": "5904188a-d955-47e7-945b-e7efbf62b594"
   },
   "outputs": [
    {
     "name": "stdout",
     "output_type": "stream",
     "text": [
      "Total missing values: 74027\n",
      "Percentage of missing values: 0.98%\n"
     ]
    }
   ],
   "source": [
    "# Cek Missing Value\n",
    "total_missing = df_AirQuality.isnull().sum().sum() # Total missing value\n",
    "\n",
    "percent_missing = (total_missing / df_AirQuality.size) * 100 # Persentase missing value\n",
    "\n",
    "print(f\"Total missing values: {total_missing}\")\n",
    "print(f\"Percentage of missing values: {percent_missing:.2f}%\")"
   ]
  },
  {
   "cell_type": "markdown",
   "metadata": {
    "id": "Q_5ejIqckiSP"
   },
   "source": [
    "**Insight:**\n",
    "- Terdapat Missing value yag berjumlah 0.98% dari data asli atau 74027 dari 420768"
   ]
  },
  {
   "cell_type": "code",
   "execution_count": 6,
   "metadata": {
    "id": "mDOGh0gGhvBR"
   },
   "outputs": [],
   "source": [
    "# Hapus Missing Value\n",
    "df_AirQuality.dropna(inplace=True)"
   ]
  },
  {
   "cell_type": "code",
   "execution_count": 7,
   "metadata": {
    "id": "4AY-2GjQiAa8"
   },
   "outputs": [],
   "source": [
    "# Mengubah isi variabel month menjadi (1:Januari, 2:Februari, 3:Maret, 4:April, 5:Mei, 6:Juni, 7:Juli, 8:Agustus, 9:September, 10:Oktober, 11:Nopember, 12:Desember\n",
    "# Mengubah isi wd menjadi (N:North, NNE:North - North East, NE:North East, ENE: East - North East, E:East, ESE:East - South East, SE:South East, SSE:South - South East, S:South, SSW:South - South West, SW:South West, WSW:West - South West, W:West, WNW:West - North West, NW:North West, NNW:North - North West)\n",
    "df_AirQuality['month'] = df_AirQuality['month'].replace({1:'January', 2:'February', 3:'March', 4:'April', 5:'May', 6:'June', 7:'July', 8:'August', 9:'September', 10:'October', 11:'November', 12:'December'})\n",
    "df_AirQuality['wd'] = df_AirQuality['wd'].replace({'N': 'North', 'NNE': 'North - North East', 'NE': 'North East', 'ENE': 'East - North East', 'E':'East', 'ESE': 'East - South East', 'SE': 'South East', 'SSE': 'South - South East', 'S': 'South', 'SSW': 'South - South West', 'SW': 'South West', 'WSW': 'West - South West', 'W': 'West', 'WNW': 'West - North West', 'NW': 'North West', 'NNW': 'North - North West'})"
   ]
  },
  {
   "cell_type": "code",
   "execution_count": 8,
   "metadata": {
    "colab": {
     "base_uri": "https://localhost:8080/",
     "height": 347
    },
    "id": "nvlJwhzPiQVv",
    "outputId": "6e036c27-d26b-4e33-d204-d27ecf2fd3c9"
   },
   "outputs": [
    {
     "data": {
      "text/html": [
       "<div>\n",
       "<style scoped>\n",
       "    .dataframe tbody tr th:only-of-type {\n",
       "        vertical-align: middle;\n",
       "    }\n",
       "\n",
       "    .dataframe tbody tr th {\n",
       "        vertical-align: top;\n",
       "    }\n",
       "\n",
       "    .dataframe thead th {\n",
       "        text-align: right;\n",
       "    }\n",
       "</style>\n",
       "<table border=\"1\" class=\"dataframe\">\n",
       "  <thead>\n",
       "    <tr style=\"text-align: right;\">\n",
       "      <th></th>\n",
       "      <th>No</th>\n",
       "      <th>year</th>\n",
       "      <th>month</th>\n",
       "      <th>day</th>\n",
       "      <th>hour</th>\n",
       "      <th>PM2.5</th>\n",
       "      <th>PM10</th>\n",
       "      <th>SO2</th>\n",
       "      <th>NO2</th>\n",
       "      <th>CO</th>\n",
       "      <th>O3</th>\n",
       "      <th>TEMP</th>\n",
       "      <th>PRES</th>\n",
       "      <th>DEWP</th>\n",
       "      <th>RAIN</th>\n",
       "      <th>wd</th>\n",
       "      <th>WSPM</th>\n",
       "      <th>station</th>\n",
       "    </tr>\n",
       "  </thead>\n",
       "  <tbody>\n",
       "    <tr>\n",
       "      <th>0</th>\n",
       "      <td>1</td>\n",
       "      <td>2013</td>\n",
       "      <td>March</td>\n",
       "      <td>1</td>\n",
       "      <td>0</td>\n",
       "      <td>4.0</td>\n",
       "      <td>4.0</td>\n",
       "      <td>4.0</td>\n",
       "      <td>7.0</td>\n",
       "      <td>300.0</td>\n",
       "      <td>77.0</td>\n",
       "      <td>-0.7</td>\n",
       "      <td>1023.0</td>\n",
       "      <td>-18.8</td>\n",
       "      <td>0.0</td>\n",
       "      <td>North - North West</td>\n",
       "      <td>4.4</td>\n",
       "      <td>Aotizhongxin</td>\n",
       "    </tr>\n",
       "    <tr>\n",
       "      <th>1</th>\n",
       "      <td>2</td>\n",
       "      <td>2013</td>\n",
       "      <td>March</td>\n",
       "      <td>1</td>\n",
       "      <td>1</td>\n",
       "      <td>8.0</td>\n",
       "      <td>8.0</td>\n",
       "      <td>4.0</td>\n",
       "      <td>7.0</td>\n",
       "      <td>300.0</td>\n",
       "      <td>77.0</td>\n",
       "      <td>-1.1</td>\n",
       "      <td>1023.2</td>\n",
       "      <td>-18.2</td>\n",
       "      <td>0.0</td>\n",
       "      <td>North</td>\n",
       "      <td>4.7</td>\n",
       "      <td>Aotizhongxin</td>\n",
       "    </tr>\n",
       "    <tr>\n",
       "      <th>2</th>\n",
       "      <td>3</td>\n",
       "      <td>2013</td>\n",
       "      <td>March</td>\n",
       "      <td>1</td>\n",
       "      <td>2</td>\n",
       "      <td>7.0</td>\n",
       "      <td>7.0</td>\n",
       "      <td>5.0</td>\n",
       "      <td>10.0</td>\n",
       "      <td>300.0</td>\n",
       "      <td>73.0</td>\n",
       "      <td>-1.1</td>\n",
       "      <td>1023.5</td>\n",
       "      <td>-18.2</td>\n",
       "      <td>0.0</td>\n",
       "      <td>North - North West</td>\n",
       "      <td>5.6</td>\n",
       "      <td>Aotizhongxin</td>\n",
       "    </tr>\n",
       "    <tr>\n",
       "      <th>3</th>\n",
       "      <td>4</td>\n",
       "      <td>2013</td>\n",
       "      <td>March</td>\n",
       "      <td>1</td>\n",
       "      <td>3</td>\n",
       "      <td>6.0</td>\n",
       "      <td>6.0</td>\n",
       "      <td>11.0</td>\n",
       "      <td>11.0</td>\n",
       "      <td>300.0</td>\n",
       "      <td>72.0</td>\n",
       "      <td>-1.4</td>\n",
       "      <td>1024.5</td>\n",
       "      <td>-19.4</td>\n",
       "      <td>0.0</td>\n",
       "      <td>North West</td>\n",
       "      <td>3.1</td>\n",
       "      <td>Aotizhongxin</td>\n",
       "    </tr>\n",
       "    <tr>\n",
       "      <th>4</th>\n",
       "      <td>5</td>\n",
       "      <td>2013</td>\n",
       "      <td>March</td>\n",
       "      <td>1</td>\n",
       "      <td>4</td>\n",
       "      <td>3.0</td>\n",
       "      <td>3.0</td>\n",
       "      <td>12.0</td>\n",
       "      <td>12.0</td>\n",
       "      <td>300.0</td>\n",
       "      <td>72.0</td>\n",
       "      <td>-2.0</td>\n",
       "      <td>1025.2</td>\n",
       "      <td>-19.5</td>\n",
       "      <td>0.0</td>\n",
       "      <td>North</td>\n",
       "      <td>2.0</td>\n",
       "      <td>Aotizhongxin</td>\n",
       "    </tr>\n",
       "  </tbody>\n",
       "</table>\n",
       "</div>"
      ],
      "text/plain": [
       "   No  year  month  day  hour  PM2.5  PM10   SO2   NO2     CO    O3  TEMP   \n",
       "0   1  2013  March    1     0    4.0   4.0   4.0   7.0  300.0  77.0  -0.7  \\\n",
       "1   2  2013  March    1     1    8.0   8.0   4.0   7.0  300.0  77.0  -1.1   \n",
       "2   3  2013  March    1     2    7.0   7.0   5.0  10.0  300.0  73.0  -1.1   \n",
       "3   4  2013  March    1     3    6.0   6.0  11.0  11.0  300.0  72.0  -1.4   \n",
       "4   5  2013  March    1     4    3.0   3.0  12.0  12.0  300.0  72.0  -2.0   \n",
       "\n",
       "     PRES  DEWP  RAIN                  wd  WSPM       station  \n",
       "0  1023.0 -18.8   0.0  North - North West   4.4  Aotizhongxin  \n",
       "1  1023.2 -18.2   0.0               North   4.7  Aotizhongxin  \n",
       "2  1023.5 -18.2   0.0  North - North West   5.6  Aotizhongxin  \n",
       "3  1024.5 -19.4   0.0          North West   3.1  Aotizhongxin  \n",
       "4  1025.2 -19.5   0.0               North   2.0  Aotizhongxin  "
      ]
     },
     "execution_count": 8,
     "metadata": {},
     "output_type": "execute_result"
    }
   ],
   "source": [
    "df_AirQuality.head()"
   ]
  },
  {
   "cell_type": "code",
   "execution_count": 10,
   "metadata": {
    "id": "eROtEXrmI51u"
   },
   "outputs": [],
   "source": [
    "# Mengubah tipe data month, wd, dan station ke category\n",
    "df_AirQuality['month'] = df_AirQuality['month'].astype('category')\n",
    "df_AirQuality['wd'] = df_AirQuality['wd'].astype('category')\n",
    "df_AirQuality['station'] = df_AirQuality['station'].astype('category')"
   ]
  },
  {
   "cell_type": "code",
   "execution_count": 11,
   "metadata": {
    "colab": {
     "base_uri": "https://localhost:8080/"
    },
    "id": "dkLiMmuPj-iJ",
    "outputId": "af91d090-cdee-43c4-ee93-0d555f22d84f"
   },
   "outputs": [
    {
     "name": "stdout",
     "output_type": "stream",
     "text": [
      "Number of features: 18\n",
      "Number of numerical features: 15\n",
      "Number of categorical features: 3\n",
      "\n",
      "List of categorical features:\n",
      "['month', 'wd', 'station']\n",
      "\n",
      "List of numerical features:\n",
      "['No', 'year', 'day', 'hour', 'PM2.5', 'PM10', 'SO2', 'NO2', 'CO', 'O3', 'TEMP', 'PRES', 'DEWP', 'RAIN', 'WSPM']\n"
     ]
    }
   ],
   "source": [
    "# Kolom numerik\n",
    "numerical_cols = [col for col in df_AirQuality.columns if df_AirQuality[col].dtype in ['int64', 'float64']]\n",
    "\n",
    "# Kolom kategorikal\n",
    "categorical_cols = [col for col in df_AirQuality.columns if df_AirQuality[col].dtype == 'category']\n",
    "\n",
    "# Daftar Variabel\n",
    "total_features = len(categorical_cols) + len(numerical_cols)\n",
    "num_numerical_features = len(numerical_cols)\n",
    "num_categorical_features = len(categorical_cols)\n",
    "\n",
    "print(f\"Number of features: {total_features}\")\n",
    "print(f\"Number of numerical features: {num_numerical_features}\")\n",
    "print(f\"Number of categorical features: {num_categorical_features}\\n\")\n",
    "print(f\"List of categorical features:\\n{categorical_cols}\\n\")\n",
    "print(f\"List of numerical features:\\n{numerical_cols}\")"
   ]
  },
  {
   "cell_type": "code",
   "execution_count": 12,
   "metadata": {
    "colab": {
     "base_uri": "https://localhost:8080/"
    },
    "id": "iPMxL2_QkMXU",
    "outputId": "f2c8a04a-ae76-427f-c672-0bdd75f34581"
   },
   "outputs": [
    {
     "name": "stdout",
     "output_type": "stream",
     "text": [
      "Kolom: month\n",
      "{'July', 'January', 'June', 'March', 'April', 'August', 'February', 'September', 'November', 'May', 'December', 'October'}\n",
      "------------------------------\n",
      "Kolom: wd\n",
      "{'North', 'North - North East', 'North - North West', 'East', 'South West', 'East - South East', 'East - North East', 'South - South East', 'South', 'West - South West', 'West - North West', 'North West', 'North East', 'West', 'South - South West', 'South East'}\n",
      "------------------------------\n",
      "Kolom: station\n",
      "{'Dongsi', 'Wanliu', 'Shunyi', 'Changping', 'Nongzhanguan', 'Dingling', 'Aotizhongxin', 'Tiantan', 'Wanshouxigong', 'Gucheng', 'Huairou', 'Guanyuan'}\n",
      "------------------------------\n"
     ]
    }
   ],
   "source": [
    "# Menampilkan semua nilai unik dengan set()\n",
    "for col in categorical_cols:\n",
    "    print(f\"Kolom: {col}\")\n",
    "    print(set(df_AirQuality[col].unique()))\n",
    "    print(\"-\" * 30)"
   ]
  },
  {
   "cell_type": "code",
   "execution_count": 13,
   "metadata": {
    "colab": {
     "base_uri": "https://localhost:8080/"
    },
    "id": "5-KBzWXDIvjf",
    "outputId": "312792a2-069c-491e-cec1-eb7cb3121da9"
   },
   "outputs": [
    {
     "name": "stdout",
     "output_type": "stream",
     "text": [
      "<class 'pandas.core.frame.DataFrame'>\n",
      "Index: 382168 entries, 0 to 420767\n",
      "Data columns (total 18 columns):\n",
      " #   Column   Non-Null Count   Dtype   \n",
      "---  ------   --------------   -----   \n",
      " 0   No       382168 non-null  int64   \n",
      " 1   year     382168 non-null  int64   \n",
      " 2   month    382168 non-null  category\n",
      " 3   day      382168 non-null  int64   \n",
      " 4   hour     382168 non-null  int64   \n",
      " 5   PM2.5    382168 non-null  float64 \n",
      " 6   PM10     382168 non-null  float64 \n",
      " 7   SO2      382168 non-null  float64 \n",
      " 8   NO2      382168 non-null  float64 \n",
      " 9   CO       382168 non-null  float64 \n",
      " 10  O3       382168 non-null  float64 \n",
      " 11  TEMP     382168 non-null  float64 \n",
      " 12  PRES     382168 non-null  float64 \n",
      " 13  DEWP     382168 non-null  float64 \n",
      " 14  RAIN     382168 non-null  float64 \n",
      " 15  wd       382168 non-null  category\n",
      " 16  WSPM     382168 non-null  float64 \n",
      " 17  station  382168 non-null  category\n",
      "dtypes: category(3), float64(11), int64(4)\n",
      "memory usage: 47.7 MB\n"
     ]
    }
   ],
   "source": [
    "#cek tipe data\n",
    "df_AirQuality.info()"
   ]
  },
  {
   "cell_type": "markdown",
   "metadata": {
    "id": "gp-Y6wU38DC1"
   },
   "source": [
    "## Exploratory Data Analysis (EDA)"
   ]
  },
  {
   "cell_type": "code",
   "execution_count": 14,
   "metadata": {
    "colab": {
     "base_uri": "https://localhost:8080/",
     "height": 431
    },
    "id": "e9CQCZjk8DC2",
    "outputId": "4bd5768e-947d-4302-c336-6838a68e8a62"
   },
   "outputs": [
    {
     "data": {
      "text/html": [
       "<div>\n",
       "<style scoped>\n",
       "    .dataframe tbody tr th:only-of-type {\n",
       "        vertical-align: middle;\n",
       "    }\n",
       "\n",
       "    .dataframe tbody tr th {\n",
       "        vertical-align: top;\n",
       "    }\n",
       "\n",
       "    .dataframe thead th {\n",
       "        text-align: right;\n",
       "    }\n",
       "</style>\n",
       "<table border=\"1\" class=\"dataframe\">\n",
       "  <thead>\n",
       "    <tr style=\"text-align: right;\">\n",
       "      <th></th>\n",
       "      <th>No</th>\n",
       "      <th>year</th>\n",
       "      <th>month</th>\n",
       "      <th>day</th>\n",
       "      <th>hour</th>\n",
       "      <th>PM2.5</th>\n",
       "      <th>PM10</th>\n",
       "      <th>SO2</th>\n",
       "      <th>NO2</th>\n",
       "      <th>CO</th>\n",
       "      <th>O3</th>\n",
       "      <th>TEMP</th>\n",
       "      <th>PRES</th>\n",
       "      <th>DEWP</th>\n",
       "      <th>RAIN</th>\n",
       "      <th>wd</th>\n",
       "      <th>WSPM</th>\n",
       "      <th>station</th>\n",
       "    </tr>\n",
       "  </thead>\n",
       "  <tbody>\n",
       "    <tr>\n",
       "      <th>count</th>\n",
       "      <td>382168.000000</td>\n",
       "      <td>382168.000000</td>\n",
       "      <td>382168</td>\n",
       "      <td>382168.000000</td>\n",
       "      <td>382168.000000</td>\n",
       "      <td>382168.000000</td>\n",
       "      <td>382168.000000</td>\n",
       "      <td>382168.000000</td>\n",
       "      <td>382168.000000</td>\n",
       "      <td>382168.000000</td>\n",
       "      <td>382168.000000</td>\n",
       "      <td>382168.000000</td>\n",
       "      <td>382168.000000</td>\n",
       "      <td>382168.000000</td>\n",
       "      <td>382168.000000</td>\n",
       "      <td>382168</td>\n",
       "      <td>382168.000000</td>\n",
       "      <td>382168</td>\n",
       "    </tr>\n",
       "    <tr>\n",
       "      <th>unique</th>\n",
       "      <td>NaN</td>\n",
       "      <td>NaN</td>\n",
       "      <td>12</td>\n",
       "      <td>NaN</td>\n",
       "      <td>NaN</td>\n",
       "      <td>NaN</td>\n",
       "      <td>NaN</td>\n",
       "      <td>NaN</td>\n",
       "      <td>NaN</td>\n",
       "      <td>NaN</td>\n",
       "      <td>NaN</td>\n",
       "      <td>NaN</td>\n",
       "      <td>NaN</td>\n",
       "      <td>NaN</td>\n",
       "      <td>NaN</td>\n",
       "      <td>16</td>\n",
       "      <td>NaN</td>\n",
       "      <td>12</td>\n",
       "    </tr>\n",
       "    <tr>\n",
       "      <th>top</th>\n",
       "      <td>NaN</td>\n",
       "      <td>NaN</td>\n",
       "      <td>March</td>\n",
       "      <td>NaN</td>\n",
       "      <td>NaN</td>\n",
       "      <td>NaN</td>\n",
       "      <td>NaN</td>\n",
       "      <td>NaN</td>\n",
       "      <td>NaN</td>\n",
       "      <td>NaN</td>\n",
       "      <td>NaN</td>\n",
       "      <td>NaN</td>\n",
       "      <td>NaN</td>\n",
       "      <td>NaN</td>\n",
       "      <td>NaN</td>\n",
       "      <td>North East</td>\n",
       "      <td>NaN</td>\n",
       "      <td>Nongzhanguan</td>\n",
       "    </tr>\n",
       "    <tr>\n",
       "      <th>freq</th>\n",
       "      <td>NaN</td>\n",
       "      <td>NaN</td>\n",
       "      <td>33536</td>\n",
       "      <td>NaN</td>\n",
       "      <td>NaN</td>\n",
       "      <td>NaN</td>\n",
       "      <td>NaN</td>\n",
       "      <td>NaN</td>\n",
       "      <td>NaN</td>\n",
       "      <td>NaN</td>\n",
       "      <td>NaN</td>\n",
       "      <td>NaN</td>\n",
       "      <td>NaN</td>\n",
       "      <td>NaN</td>\n",
       "      <td>NaN</td>\n",
       "      <td>39319</td>\n",
       "      <td>NaN</td>\n",
       "      <td>33114</td>\n",
       "    </tr>\n",
       "    <tr>\n",
       "      <th>mean</th>\n",
       "      <td>17955.931070</td>\n",
       "      <td>2014.714905</td>\n",
       "      <td>NaN</td>\n",
       "      <td>15.711308</td>\n",
       "      <td>11.575184</td>\n",
       "      <td>79.432383</td>\n",
       "      <td>104.573837</td>\n",
       "      <td>15.634814</td>\n",
       "      <td>50.570068</td>\n",
       "      <td>1229.940563</td>\n",
       "      <td>57.376676</td>\n",
       "      <td>13.518694</td>\n",
       "      <td>1010.813471</td>\n",
       "      <td>2.417195</td>\n",
       "      <td>0.065030</td>\n",
       "      <td>NaN</td>\n",
       "      <td>1.738031</td>\n",
       "      <td>NaN</td>\n",
       "    </tr>\n",
       "    <tr>\n",
       "      <th>std</th>\n",
       "      <td>10001.787087</td>\n",
       "      <td>1.160266</td>\n",
       "      <td>NaN</td>\n",
       "      <td>8.803064</td>\n",
       "      <td>6.933552</td>\n",
       "      <td>80.154901</td>\n",
       "      <td>91.379446</td>\n",
       "      <td>21.306103</td>\n",
       "      <td>35.062086</td>\n",
       "      <td>1157.151476</td>\n",
       "      <td>56.709013</td>\n",
       "      <td>11.425355</td>\n",
       "      <td>10.452381</td>\n",
       "      <td>13.798402</td>\n",
       "      <td>0.823901</td>\n",
       "      <td>NaN</td>\n",
       "      <td>1.241152</td>\n",
       "      <td>NaN</td>\n",
       "    </tr>\n",
       "    <tr>\n",
       "      <th>min</th>\n",
       "      <td>1.000000</td>\n",
       "      <td>2013.000000</td>\n",
       "      <td>NaN</td>\n",
       "      <td>1.000000</td>\n",
       "      <td>0.000000</td>\n",
       "      <td>2.000000</td>\n",
       "      <td>2.000000</td>\n",
       "      <td>0.285600</td>\n",
       "      <td>2.000000</td>\n",
       "      <td>100.000000</td>\n",
       "      <td>0.214200</td>\n",
       "      <td>-19.900000</td>\n",
       "      <td>982.400000</td>\n",
       "      <td>-36.000000</td>\n",
       "      <td>0.000000</td>\n",
       "      <td>NaN</td>\n",
       "      <td>0.000000</td>\n",
       "      <td>NaN</td>\n",
       "    </tr>\n",
       "    <tr>\n",
       "      <th>25%</th>\n",
       "      <td>9610.000000</td>\n",
       "      <td>2014.000000</td>\n",
       "      <td>NaN</td>\n",
       "      <td>8.000000</td>\n",
       "      <td>6.000000</td>\n",
       "      <td>20.000000</td>\n",
       "      <td>36.000000</td>\n",
       "      <td>2.000000</td>\n",
       "      <td>23.000000</td>\n",
       "      <td>500.000000</td>\n",
       "      <td>10.495800</td>\n",
       "      <td>3.100000</td>\n",
       "      <td>1002.400000</td>\n",
       "      <td>-9.000000</td>\n",
       "      <td>0.000000</td>\n",
       "      <td>NaN</td>\n",
       "      <td>0.900000</td>\n",
       "      <td>NaN</td>\n",
       "    </tr>\n",
       "    <tr>\n",
       "      <th>50%</th>\n",
       "      <td>18103.000000</td>\n",
       "      <td>2015.000000</td>\n",
       "      <td>NaN</td>\n",
       "      <td>16.000000</td>\n",
       "      <td>12.000000</td>\n",
       "      <td>55.000000</td>\n",
       "      <td>82.000000</td>\n",
       "      <td>7.000000</td>\n",
       "      <td>43.000000</td>\n",
       "      <td>900.000000</td>\n",
       "      <td>45.000000</td>\n",
       "      <td>14.400000</td>\n",
       "      <td>1010.400000</td>\n",
       "      <td>3.000000</td>\n",
       "      <td>0.000000</td>\n",
       "      <td>NaN</td>\n",
       "      <td>1.400000</td>\n",
       "      <td>NaN</td>\n",
       "    </tr>\n",
       "    <tr>\n",
       "      <th>75%</th>\n",
       "      <td>26515.000000</td>\n",
       "      <td>2016.000000</td>\n",
       "      <td>NaN</td>\n",
       "      <td>23.000000</td>\n",
       "      <td>18.000000</td>\n",
       "      <td>111.000000</td>\n",
       "      <td>145.000000</td>\n",
       "      <td>19.000000</td>\n",
       "      <td>71.000000</td>\n",
       "      <td>1500.000000</td>\n",
       "      <td>82.000000</td>\n",
       "      <td>23.200000</td>\n",
       "      <td>1019.000000</td>\n",
       "      <td>15.100000</td>\n",
       "      <td>0.000000</td>\n",
       "      <td>NaN</td>\n",
       "      <td>2.200000</td>\n",
       "      <td>NaN</td>\n",
       "    </tr>\n",
       "    <tr>\n",
       "      <th>max</th>\n",
       "      <td>35064.000000</td>\n",
       "      <td>2017.000000</td>\n",
       "      <td>NaN</td>\n",
       "      <td>31.000000</td>\n",
       "      <td>23.000000</td>\n",
       "      <td>844.000000</td>\n",
       "      <td>999.000000</td>\n",
       "      <td>500.000000</td>\n",
       "      <td>290.000000</td>\n",
       "      <td>10000.000000</td>\n",
       "      <td>1071.000000</td>\n",
       "      <td>41.600000</td>\n",
       "      <td>1042.800000</td>\n",
       "      <td>29.100000</td>\n",
       "      <td>72.500000</td>\n",
       "      <td>NaN</td>\n",
       "      <td>13.200000</td>\n",
       "      <td>NaN</td>\n",
       "    </tr>\n",
       "  </tbody>\n",
       "</table>\n",
       "</div>"
      ],
      "text/plain": [
       "                   No           year   month            day           hour   \n",
       "count   382168.000000  382168.000000  382168  382168.000000  382168.000000  \\\n",
       "unique            NaN            NaN      12            NaN            NaN   \n",
       "top               NaN            NaN   March            NaN            NaN   \n",
       "freq              NaN            NaN   33536            NaN            NaN   \n",
       "mean     17955.931070    2014.714905     NaN      15.711308      11.575184   \n",
       "std      10001.787087       1.160266     NaN       8.803064       6.933552   \n",
       "min          1.000000    2013.000000     NaN       1.000000       0.000000   \n",
       "25%       9610.000000    2014.000000     NaN       8.000000       6.000000   \n",
       "50%      18103.000000    2015.000000     NaN      16.000000      12.000000   \n",
       "75%      26515.000000    2016.000000     NaN      23.000000      18.000000   \n",
       "max      35064.000000    2017.000000     NaN      31.000000      23.000000   \n",
       "\n",
       "                PM2.5           PM10            SO2            NO2   \n",
       "count   382168.000000  382168.000000  382168.000000  382168.000000  \\\n",
       "unique            NaN            NaN            NaN            NaN   \n",
       "top               NaN            NaN            NaN            NaN   \n",
       "freq              NaN            NaN            NaN            NaN   \n",
       "mean        79.432383     104.573837      15.634814      50.570068   \n",
       "std         80.154901      91.379446      21.306103      35.062086   \n",
       "min          2.000000       2.000000       0.285600       2.000000   \n",
       "25%         20.000000      36.000000       2.000000      23.000000   \n",
       "50%         55.000000      82.000000       7.000000      43.000000   \n",
       "75%        111.000000     145.000000      19.000000      71.000000   \n",
       "max        844.000000     999.000000     500.000000     290.000000   \n",
       "\n",
       "                   CO             O3           TEMP           PRES   \n",
       "count   382168.000000  382168.000000  382168.000000  382168.000000  \\\n",
       "unique            NaN            NaN            NaN            NaN   \n",
       "top               NaN            NaN            NaN            NaN   \n",
       "freq              NaN            NaN            NaN            NaN   \n",
       "mean      1229.940563      57.376676      13.518694    1010.813471   \n",
       "std       1157.151476      56.709013      11.425355      10.452381   \n",
       "min        100.000000       0.214200     -19.900000     982.400000   \n",
       "25%        500.000000      10.495800       3.100000    1002.400000   \n",
       "50%        900.000000      45.000000      14.400000    1010.400000   \n",
       "75%       1500.000000      82.000000      23.200000    1019.000000   \n",
       "max      10000.000000    1071.000000      41.600000    1042.800000   \n",
       "\n",
       "                 DEWP           RAIN          wd           WSPM       station  \n",
       "count   382168.000000  382168.000000      382168  382168.000000        382168  \n",
       "unique            NaN            NaN          16            NaN            12  \n",
       "top               NaN            NaN  North East            NaN  Nongzhanguan  \n",
       "freq              NaN            NaN       39319            NaN         33114  \n",
       "mean         2.417195       0.065030         NaN       1.738031           NaN  \n",
       "std         13.798402       0.823901         NaN       1.241152           NaN  \n",
       "min        -36.000000       0.000000         NaN       0.000000           NaN  \n",
       "25%         -9.000000       0.000000         NaN       0.900000           NaN  \n",
       "50%          3.000000       0.000000         NaN       1.400000           NaN  \n",
       "75%         15.100000       0.000000         NaN       2.200000           NaN  \n",
       "max         29.100000      72.500000         NaN      13.200000           NaN  "
      ]
     },
     "execution_count": 14,
     "metadata": {},
     "output_type": "execute_result"
    }
   ],
   "source": [
    "#statistika deskriptif secara keseluruhan\n",
    "df_AirQuality.describe(include=\"all\")"
   ]
  },
  {
   "cell_type": "code",
   "execution_count": 15,
   "metadata": {
    "colab": {
     "base_uri": "https://localhost:8080/",
     "height": 143
    },
    "id": "gBbyKQueKISN",
    "outputId": "82b524e5-317b-4720-b3a7-9d97164e3e3b"
   },
   "outputs": [
    {
     "data": {
      "text/html": [
       "<div>\n",
       "<style scoped>\n",
       "    .dataframe tbody tr th:only-of-type {\n",
       "        vertical-align: middle;\n",
       "    }\n",
       "\n",
       "    .dataframe tbody tr th {\n",
       "        vertical-align: top;\n",
       "    }\n",
       "\n",
       "    .dataframe thead th {\n",
       "        text-align: right;\n",
       "    }\n",
       "</style>\n",
       "<table border=\"1\" class=\"dataframe\">\n",
       "  <thead>\n",
       "    <tr style=\"text-align: right;\">\n",
       "      <th></th>\n",
       "      <th>count</th>\n",
       "      <th>unique</th>\n",
       "      <th>top</th>\n",
       "      <th>freq</th>\n",
       "    </tr>\n",
       "  </thead>\n",
       "  <tbody>\n",
       "    <tr>\n",
       "      <th>month</th>\n",
       "      <td>382168</td>\n",
       "      <td>12</td>\n",
       "      <td>March</td>\n",
       "      <td>33536</td>\n",
       "    </tr>\n",
       "    <tr>\n",
       "      <th>wd</th>\n",
       "      <td>382168</td>\n",
       "      <td>16</td>\n",
       "      <td>North East</td>\n",
       "      <td>39319</td>\n",
       "    </tr>\n",
       "    <tr>\n",
       "      <th>station</th>\n",
       "      <td>382168</td>\n",
       "      <td>12</td>\n",
       "      <td>Nongzhanguan</td>\n",
       "      <td>33114</td>\n",
       "    </tr>\n",
       "  </tbody>\n",
       "</table>\n",
       "</div>"
      ],
      "text/plain": [
       "          count unique           top   freq\n",
       "month    382168     12         March  33536\n",
       "wd       382168     16    North East  39319\n",
       "station  382168     12  Nongzhanguan  33114"
      ]
     },
     "execution_count": 15,
     "metadata": {},
     "output_type": "execute_result"
    }
   ],
   "source": [
    "# Category Data\n",
    "df_AirQuality[categorical_cols].describe().T"
   ]
  },
  {
   "cell_type": "markdown",
   "metadata": {
    "id": "5nAMCEKlKiOZ"
   },
   "source": [
    "**Insight:**\n",
    "- Stasiun Nongzhanguan merupakan lokasi pemantauan yang paling aktif atau memiliki data yang lebih lengkap dibandingkan stasiun lainnya.\n",
    "- Bulan Maret merupakan bulan yang dimana paling sering dilakukan pemantauan dengan 33.536 entri data tercatat dalam dataset"
   ]
  },
  {
   "cell_type": "code",
   "execution_count": 16,
   "metadata": {
    "colab": {
     "base_uri": "https://localhost:8080/",
     "height": 519
    },
    "id": "vfwxmI2mLBLo",
    "outputId": "5b320d7f-e0ef-4628-8ee8-9131a93c4da0"
   },
   "outputs": [
    {
     "data": {
      "text/html": [
       "<div>\n",
       "<style scoped>\n",
       "    .dataframe tbody tr th:only-of-type {\n",
       "        vertical-align: middle;\n",
       "    }\n",
       "\n",
       "    .dataframe tbody tr th {\n",
       "        vertical-align: top;\n",
       "    }\n",
       "\n",
       "    .dataframe thead th {\n",
       "        text-align: right;\n",
       "    }\n",
       "</style>\n",
       "<table border=\"1\" class=\"dataframe\">\n",
       "  <thead>\n",
       "    <tr style=\"text-align: right;\">\n",
       "      <th></th>\n",
       "      <th>count</th>\n",
       "      <th>mean</th>\n",
       "      <th>std</th>\n",
       "      <th>min</th>\n",
       "      <th>25%</th>\n",
       "      <th>50%</th>\n",
       "      <th>75%</th>\n",
       "      <th>max</th>\n",
       "    </tr>\n",
       "  </thead>\n",
       "  <tbody>\n",
       "    <tr>\n",
       "      <th>No</th>\n",
       "      <td>382168.0</td>\n",
       "      <td>17955.931070</td>\n",
       "      <td>10001.787087</td>\n",
       "      <td>1.0000</td>\n",
       "      <td>9610.0000</td>\n",
       "      <td>18103.0</td>\n",
       "      <td>26515.0</td>\n",
       "      <td>35064.0</td>\n",
       "    </tr>\n",
       "    <tr>\n",
       "      <th>year</th>\n",
       "      <td>382168.0</td>\n",
       "      <td>2014.714905</td>\n",
       "      <td>1.160266</td>\n",
       "      <td>2013.0000</td>\n",
       "      <td>2014.0000</td>\n",
       "      <td>2015.0</td>\n",
       "      <td>2016.0</td>\n",
       "      <td>2017.0</td>\n",
       "    </tr>\n",
       "    <tr>\n",
       "      <th>day</th>\n",
       "      <td>382168.0</td>\n",
       "      <td>15.711308</td>\n",
       "      <td>8.803064</td>\n",
       "      <td>1.0000</td>\n",
       "      <td>8.0000</td>\n",
       "      <td>16.0</td>\n",
       "      <td>23.0</td>\n",
       "      <td>31.0</td>\n",
       "    </tr>\n",
       "    <tr>\n",
       "      <th>hour</th>\n",
       "      <td>382168.0</td>\n",
       "      <td>11.575184</td>\n",
       "      <td>6.933552</td>\n",
       "      <td>0.0000</td>\n",
       "      <td>6.0000</td>\n",
       "      <td>12.0</td>\n",
       "      <td>18.0</td>\n",
       "      <td>23.0</td>\n",
       "    </tr>\n",
       "    <tr>\n",
       "      <th>PM2.5</th>\n",
       "      <td>382168.0</td>\n",
       "      <td>79.432383</td>\n",
       "      <td>80.154901</td>\n",
       "      <td>2.0000</td>\n",
       "      <td>20.0000</td>\n",
       "      <td>55.0</td>\n",
       "      <td>111.0</td>\n",
       "      <td>844.0</td>\n",
       "    </tr>\n",
       "    <tr>\n",
       "      <th>PM10</th>\n",
       "      <td>382168.0</td>\n",
       "      <td>104.573837</td>\n",
       "      <td>91.379446</td>\n",
       "      <td>2.0000</td>\n",
       "      <td>36.0000</td>\n",
       "      <td>82.0</td>\n",
       "      <td>145.0</td>\n",
       "      <td>999.0</td>\n",
       "    </tr>\n",
       "    <tr>\n",
       "      <th>SO2</th>\n",
       "      <td>382168.0</td>\n",
       "      <td>15.634814</td>\n",
       "      <td>21.306103</td>\n",
       "      <td>0.2856</td>\n",
       "      <td>2.0000</td>\n",
       "      <td>7.0</td>\n",
       "      <td>19.0</td>\n",
       "      <td>500.0</td>\n",
       "    </tr>\n",
       "    <tr>\n",
       "      <th>NO2</th>\n",
       "      <td>382168.0</td>\n",
       "      <td>50.570068</td>\n",
       "      <td>35.062086</td>\n",
       "      <td>2.0000</td>\n",
       "      <td>23.0000</td>\n",
       "      <td>43.0</td>\n",
       "      <td>71.0</td>\n",
       "      <td>290.0</td>\n",
       "    </tr>\n",
       "    <tr>\n",
       "      <th>CO</th>\n",
       "      <td>382168.0</td>\n",
       "      <td>1229.940563</td>\n",
       "      <td>1157.151476</td>\n",
       "      <td>100.0000</td>\n",
       "      <td>500.0000</td>\n",
       "      <td>900.0</td>\n",
       "      <td>1500.0</td>\n",
       "      <td>10000.0</td>\n",
       "    </tr>\n",
       "    <tr>\n",
       "      <th>O3</th>\n",
       "      <td>382168.0</td>\n",
       "      <td>57.376676</td>\n",
       "      <td>56.709013</td>\n",
       "      <td>0.2142</td>\n",
       "      <td>10.4958</td>\n",
       "      <td>45.0</td>\n",
       "      <td>82.0</td>\n",
       "      <td>1071.0</td>\n",
       "    </tr>\n",
       "    <tr>\n",
       "      <th>TEMP</th>\n",
       "      <td>382168.0</td>\n",
       "      <td>13.518694</td>\n",
       "      <td>11.425355</td>\n",
       "      <td>-19.9000</td>\n",
       "      <td>3.1000</td>\n",
       "      <td>14.4</td>\n",
       "      <td>23.2</td>\n",
       "      <td>41.6</td>\n",
       "    </tr>\n",
       "    <tr>\n",
       "      <th>PRES</th>\n",
       "      <td>382168.0</td>\n",
       "      <td>1010.813471</td>\n",
       "      <td>10.452381</td>\n",
       "      <td>982.4000</td>\n",
       "      <td>1002.4000</td>\n",
       "      <td>1010.4</td>\n",
       "      <td>1019.0</td>\n",
       "      <td>1042.8</td>\n",
       "    </tr>\n",
       "    <tr>\n",
       "      <th>DEWP</th>\n",
       "      <td>382168.0</td>\n",
       "      <td>2.417195</td>\n",
       "      <td>13.798402</td>\n",
       "      <td>-36.0000</td>\n",
       "      <td>-9.0000</td>\n",
       "      <td>3.0</td>\n",
       "      <td>15.1</td>\n",
       "      <td>29.1</td>\n",
       "    </tr>\n",
       "    <tr>\n",
       "      <th>RAIN</th>\n",
       "      <td>382168.0</td>\n",
       "      <td>0.065030</td>\n",
       "      <td>0.823901</td>\n",
       "      <td>0.0000</td>\n",
       "      <td>0.0000</td>\n",
       "      <td>0.0</td>\n",
       "      <td>0.0</td>\n",
       "      <td>72.5</td>\n",
       "    </tr>\n",
       "    <tr>\n",
       "      <th>WSPM</th>\n",
       "      <td>382168.0</td>\n",
       "      <td>1.738031</td>\n",
       "      <td>1.241152</td>\n",
       "      <td>0.0000</td>\n",
       "      <td>0.9000</td>\n",
       "      <td>1.4</td>\n",
       "      <td>2.2</td>\n",
       "      <td>13.2</td>\n",
       "    </tr>\n",
       "  </tbody>\n",
       "</table>\n",
       "</div>"
      ],
      "text/plain": [
       "          count          mean           std        min        25%      50%   \n",
       "No     382168.0  17955.931070  10001.787087     1.0000  9610.0000  18103.0  \\\n",
       "year   382168.0   2014.714905      1.160266  2013.0000  2014.0000   2015.0   \n",
       "day    382168.0     15.711308      8.803064     1.0000     8.0000     16.0   \n",
       "hour   382168.0     11.575184      6.933552     0.0000     6.0000     12.0   \n",
       "PM2.5  382168.0     79.432383     80.154901     2.0000    20.0000     55.0   \n",
       "PM10   382168.0    104.573837     91.379446     2.0000    36.0000     82.0   \n",
       "SO2    382168.0     15.634814     21.306103     0.2856     2.0000      7.0   \n",
       "NO2    382168.0     50.570068     35.062086     2.0000    23.0000     43.0   \n",
       "CO     382168.0   1229.940563   1157.151476   100.0000   500.0000    900.0   \n",
       "O3     382168.0     57.376676     56.709013     0.2142    10.4958     45.0   \n",
       "TEMP   382168.0     13.518694     11.425355   -19.9000     3.1000     14.4   \n",
       "PRES   382168.0   1010.813471     10.452381   982.4000  1002.4000   1010.4   \n",
       "DEWP   382168.0      2.417195     13.798402   -36.0000    -9.0000      3.0   \n",
       "RAIN   382168.0      0.065030      0.823901     0.0000     0.0000      0.0   \n",
       "WSPM   382168.0      1.738031      1.241152     0.0000     0.9000      1.4   \n",
       "\n",
       "           75%      max  \n",
       "No     26515.0  35064.0  \n",
       "year    2016.0   2017.0  \n",
       "day       23.0     31.0  \n",
       "hour      18.0     23.0  \n",
       "PM2.5    111.0    844.0  \n",
       "PM10     145.0    999.0  \n",
       "SO2       19.0    500.0  \n",
       "NO2       71.0    290.0  \n",
       "CO      1500.0  10000.0  \n",
       "O3        82.0   1071.0  \n",
       "TEMP      23.2     41.6  \n",
       "PRES    1019.0   1042.8  \n",
       "DEWP      15.1     29.1  \n",
       "RAIN       0.0     72.5  \n",
       "WSPM       2.2     13.2  "
      ]
     },
     "execution_count": 16,
     "metadata": {},
     "output_type": "execute_result"
    }
   ],
   "source": [
    "# Numeric Data\n",
    "df_AirQuality[numerical_cols].describe().T"
   ]
  },
  {
   "cell_type": "markdown",
   "metadata": {
    "id": "R4O0ZmxILVAS"
   },
   "source": [
    "**Insight:**\n",
    "- Polusi udara cukup tinggi, terutama untuk PM2.5, PM10, dan CO, dengan beberapa kejadian polusi ekstrem.\n",
    "- Suhu rata-rata sekitar 13.5°C, tetapi rentangnya sangat luas, mencerminkan musim yang berbeda dalam data.\n",
    "- Tekanan udara relatif stabil di sekitar 1010 hPa.\n",
    "- Curah hujan sangat rendah dalam sebagian besar pengamatan, meskipun ada kejadian hujan ekstrem.\n",
    "- Kecepatan angin umumnya rendah tetapi bisa mencapai kecepatan tinggi dalam beberapa kesempatan.\n"
   ]
  },
  {
   "cell_type": "markdown",
   "metadata": {
    "id": "zsyZjqak8DC2"
   },
   "source": [
    "## Visualization & Explanatory Analysis"
   ]
  },
  {
   "cell_type": "markdown",
   "metadata": {
    "id": "HZxOiQ6n8DC2"
   },
   "source": [
    "### Pertanyaan 1:"
   ]
  },
  {
   "cell_type": "code",
   "execution_count": null,
   "metadata": {
    "id": "1swJUdAD8DC2"
   },
   "outputs": [],
   "source": []
  },
  {
   "cell_type": "markdown",
   "metadata": {
    "id": "DgHI7CiU8DC2"
   },
   "source": [
    "### Pertanyaan 2:"
   ]
  },
  {
   "cell_type": "code",
   "execution_count": null,
   "metadata": {
    "id": "Go0lCsvO8DC2"
   },
   "outputs": [],
   "source": []
  },
  {
   "cell_type": "markdown",
   "metadata": {
    "id": "_0-36BDLklRg"
   },
   "source": [
    "**Insight:**\n",
    "- xxx\n",
    "- xxx"
   ]
  },
  {
   "cell_type": "markdown",
   "metadata": {
    "id": "9y4VUsmcYNZ5"
   },
   "source": [
    "## Analisis Lanjutan (Opsional)"
   ]
  },
  {
   "cell_type": "code",
   "execution_count": null,
   "metadata": {
    "id": "iWhnzsJGYUCO"
   },
   "outputs": [],
   "source": []
  },
  {
   "cell_type": "markdown",
   "metadata": {
    "id": "_WeHlCeX8DC2"
   },
   "source": [
    "## Conclusion"
   ]
  },
  {
   "cell_type": "markdown",
   "metadata": {
    "id": "ZTcyR48Y8DC2"
   },
   "source": [
    "- Conclution pertanyaan 1\n",
    "- Conclution pertanyaan 2"
   ]
  }
 ],
 "metadata": {
  "colab": {
   "provenance": []
  },
  "kernelspec": {
   "display_name": "Python 3 (ipykernel)",
   "language": "python",
   "name": "python3"
  },
  "language_info": {
   "codemirror_mode": {
    "name": "ipython",
    "version": 3
   },
   "file_extension": ".py",
   "mimetype": "text/x-python",
   "name": "python",
   "nbconvert_exporter": "python",
   "pygments_lexer": "ipython3",
   "version": "3.11.3"
  },
  "vscode": {
   "interpreter": {
    "hash": "972b3bf27e332e87b5379f2791f6ef9dfc79c71018c370b0d7423235e20fe4d7"
   }
  }
 },
 "nbformat": 4,
 "nbformat_minor": 1
}
